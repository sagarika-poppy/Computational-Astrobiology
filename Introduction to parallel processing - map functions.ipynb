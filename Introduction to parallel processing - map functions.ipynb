{
 "cells": [
  {
   "cell_type": "markdown",
   "id": "c8fea18a",
   "metadata": {},
   "source": [
    "Code taken from https://colab.research.google.com/drive/1TkjjiIrzq5wE1BF2DbOAqTKhmRgzSYVh#scrollTo=nNT03tbV_Rqk"
   ]
  },
  {
   "cell_type": "code",
   "execution_count": 1,
   "id": "b023508a",
   "metadata": {},
   "outputs": [],
   "source": [
    "from pathos.multiprocessing import ProcessPool\n",
    "from textblob import TextBlob\n",
    "from tqdm import tqdm "
   ]
  },
  {
   "cell_type": "markdown",
   "id": "bf4766bf",
   "metadata": {},
   "source": [
    "# Create a process pool\n",
    "\n",
    "Pools are a group of poccesses where you will send tasks. Inside you will define the number of processes to create. By defualt it will be number of CPU cores, however you can define more than that.\n",
    "\n",
    "Scheduling more processes than you have CPU cores can increase performance where the processes run into wait times or I/O"
   ]
  },
  {
   "cell_type": "code",
   "execution_count": 2,
   "id": "614dcadd",
   "metadata": {},
   "outputs": [],
   "source": [
    "pool = ProcessPool(nodes=3)\n",
    "\n",
    "# the creation of a process pool with a specified number of nodes, in this case, 3. \n",
    "# the pool will have 3 worker processes available for parallel execution."
   ]
  },
  {
   "cell_type": "markdown",
   "id": "bffdce2f",
   "metadata": {},
   "source": [
    "# Functions\n",
    "\n",
    "Map methods provided:\n",
    "    \n",
    "map         - blocking and ordered worker pool        [returns: list]\n",
    "\n",
    "imap        - non-blocking and ordered worker pool    [returns: iterator]\n",
    "\n",
    "uimap       - non-blocking and unordered worker pool  [returns: iterator]\n",
    "\n",
    "amap        - asynchronous worker pool                [returns: object]\n",
    "\n",
    "Blocking: handles jobs in batches rather than 1 by 1\n",
    "\n",
    "Ordered: Batches must be completed in order"
   ]
  },
  {
   "cell_type": "code",
   "execution_count": 4,
   "id": "a1c1b4ee",
   "metadata": {},
   "outputs": [
    {
     "data": {
      "text/plain": [
       "[1, 64, 2187, 65536]"
      ]
     },
     "execution_count": 4,
     "metadata": {},
     "output_type": "execute_result"
    }
   ],
   "source": [
    "#pool.map(function to run, data to run it on, other arguments )\n",
    "\n",
    "pool.map(pow, [1,2,3,4], [5,6,7,8])\n",
    "\n",
    "# The map() method applies the pow() function to pairs of values from the input lists, r\n",
    "# esulting in a new list of the calculated values. \n",
    "#Specifically, it computes pow(1, 5), pow(2, 6), pow(3, 7), and pow(4, 8)."
   ]
  },
  {
   "cell_type": "code",
   "execution_count": 5,
   "id": "f5c6ef04",
   "metadata": {},
   "outputs": [
    {
     "name": "stdout",
     "output_type": "stream",
     "text": [
      "1\n",
      "64\n",
      "2187\n",
      "65536\n"
     ]
    }
   ],
   "source": [
    "#Iterate through the returned data using imap\n",
    "for x in pool.imap(pow, [1,2,3,4], [5,6,7,8]):\n",
    "    print(x)\n",
    "    \n",
    "    \n",
    "#The imap() method returns an iterator that yields the results as they become available. \n",
    "# It does not wait for all the results to be computed before yielding the first result. \n",
    "# Instead, it yields each result as soon as it is ready.\n",
    "\n",
    "\n",
    "#The map() function in multiprocessing typically waits until all the results are available before returning \n",
    "# the final list of results."
   ]
  },
  {
   "cell_type": "code",
   "execution_count": 8,
   "id": "7809e736",
   "metadata": {},
   "outputs": [
    {
     "name": "stdout",
     "output_type": "stream",
     "text": [
      ". [1, 64, 2187, 65536]\n"
     ]
    }
   ],
   "source": [
    "# do an asynchronous map, then get the results\n",
    "import time\n",
    "\n",
    "results = pool.amap(pow, [1,2,3,4], [5,6,7,8])\n",
    "while not results.ready():\n",
    "    time.sleep(5); print(\".\", end=' ')\n",
    "\n",
    "# Retrieve the results as a list\n",
    "output = results.get()\n",
    "# Print the output\n",
    "print(output)"
   ]
  },
  {
   "cell_type": "raw",
   "id": "f4ceeaa9",
   "metadata": {},
   "source": [
    "the amap() method is used to asynchronously apply the pow() function to pairs of values from the input lists [1,2,3,4] and [5,6,7,8]. The amap() method returns an asynchronous result object (AsyncResult) that represents the ongoing computation.\n",
    "\n",
    "The while loop checks if the results are ready by calling the ready() method of the AsyncResult object. If the results are not ready, it waits for 5 seconds using time.sleep(5) and prints a dot (.) to indicate the ongoing processing.\n",
    "\n",
    "Once the results are ready, the loop exits, and the get() method is called on the AsyncResult object to retrieve the results as a list. The get() method blocks and waits until all the results are available before returning the final list of results.\n",
    "\n",
    "Finally, the retrieved results are printed.\n",
    "\n",
    "This approach allows us to perform other tasks or operations while waiting for the results. By periodically checking the readiness of the results, we can track the progress of the computation and continue with other tasks in the meantime."
   ]
  },
  {
   "cell_type": "markdown",
   "id": "b0fc423b",
   "metadata": {},
   "source": [
    "# Build your function\n",
    "\n",
    "First lets build a function that can take a line of text and produce the sentiment"
   ]
  },
  {
   "cell_type": "raw",
   "id": "b4a65d64",
   "metadata": {},
   "source": [
    "def get_sentiment(text):\n",
    "    from textblob import TextBlob\n",
    "    blob = TextBlob(text)\n",
    "    score = blob.sentiment.polarity\n",
    "    return score"
   ]
  },
  {
   "cell_type": "markdown",
   "id": "924334ef",
   "metadata": {},
   "source": [
    "# Then we will need a function that will download the poems for us\n"
   ]
  },
  {
   "cell_type": "raw",
   "id": "5656be85",
   "metadata": {},
   "source": [
    "import urllib.request\n",
    "\n",
    "def download_poem(url):\n",
    "    poems = []\n",
    "    with urllib.request.urlopen(url) as f: \n",
    "        for line in f:\n",
    "            line = line.decode(\"utf-8\") \n",
    "            line = line.strip()\n",
    "            if line:\n",
    "                poems.append(line)\n",
    "                return poems"
   ]
  },
  {
   "cell_type": "raw",
   "id": "28c4979f",
   "metadata": {},
   "source": [
    "a=download_poem('https://raw.githubusercontent.com/okfn/openmilton/master/miltondata/texts/poems.txt')\n",
    "a\n",
    "#/home/sagarika/belgrade/astrobio/poem.txt"
   ]
  },
  {
   "cell_type": "raw",
   "id": "3edec84d",
   "metadata": {},
   "source": [
    "type(a)"
   ]
  },
  {
   "cell_type": "raw",
   "id": "ca946d65",
   "metadata": {},
   "source": [
    "#ADDED LATER\n",
    "\n",
    "#Create a function that can take a poem and produce the sentiment of that poem\n",
    "\n",
    "def get_poem_sentiment(poem):\n",
    "    sentiment = []\n",
    "    for line in poem:\n",
    "        sentiment.append(get_sentiment(line))\n",
    "        return sentiment"
   ]
  },
  {
   "cell_type": "raw",
   "id": "efd706b4",
   "metadata": {},
   "source": [
    "#ger score for each poem\n",
    "\n",
    "def get_poem_score(poem):\n",
    "    sentiment = get_poem_sentiment(poem)\n",
    "    score = sum(sentiment)/len(sentiment)\n",
    "    return score"
   ]
  },
  {
   "cell_type": "raw",
   "id": "466494c6",
   "metadata": {},
   "source": [
    "#get the poem\n",
    "\n",
    "test_url = 'https://raw.githubusercontent.com/okfn/openmilton/master/miltondata/texts/poems.txt'\n",
    "poems = download_poem(test_url)\n",
    "\n",
    "print(len(poems))\n",
    "print(poems[:10])\n"
   ]
  },
  {
   "cell_type": "raw",
   "id": "9c7fc831",
   "metadata": {},
   "source": [
    "#calculate the sentiment score for each poem\n",
    "\n",
    "poem_scores = []\n",
    "for poem in poems:\n",
    "    poem_scores.append(get_poem_score(poem))\n",
    "    print(poem_scores)\n",
    "    "
   ]
  },
  {
   "cell_type": "markdown",
   "id": "b187a2db",
   "metadata": {},
   "source": [
    "# Let's check out what one of these poems look like"
   ]
  },
  {
   "cell_type": "code",
   "execution_count": null,
   "id": "24afdaa2",
   "metadata": {},
   "outputs": [],
   "source": []
  },
  {
   "cell_type": "raw",
   "id": "f98bbd0b",
   "metadata": {
    "scrolled": true
   },
   "source": [
    "test_url = 'https://raw.githubusercontent.com/okfn/openmilton/master/miltondata/texts/poems.txt'\n",
    "poems = download_poem(test_url)\n",
    "\n",
    "print(len(poems))\n",
    "print(poems[:10000])"
   ]
  },
  {
   "cell_type": "raw",
   "id": "621a8bd8",
   "metadata": {},
   "source": [
    "# Finally we will build out main function that puts the whole process together"
   ]
  },
  {
   "cell_type": "raw",
   "id": "61289d5c",
   "metadata": {},
   "source": [
    "import requests\n",
    "\n",
    "def download_poem(url):\n",
    "    response = requests.get(url)\n",
    "    if response.status_code == 200:\n",
    "        return response.content.decode('utf-8')\n",
    "    else:\n",
    "        return None"
   ]
  },
  {
   "cell_type": "raw",
   "id": "81990848",
   "metadata": {},
   "source": [
    "def process_poem(url):  #poems\n",
    "    scores = []\n",
    "    poem = download_poem(url)\n",
    "    \n",
    "    for line in poem:\n",
    "        scores.append(get_sentiment(line))\n",
    "    return scores"
   ]
  },
  {
   "cell_type": "raw",
   "id": "f55a6eb3",
   "metadata": {},
   "source": [
    "a=process_poem('https://raw.githubusercontent.com/okfn/openmilton/master/miltondata/texts/poems.txt')\n",
    "a"
   ]
  },
  {
   "cell_type": "raw",
   "id": "b4481887",
   "metadata": {},
   "source": [
    "# Let's build a hard task, like having to download and process multiple poems"
   ]
  },
  {
   "cell_type": "raw",
   "id": "5da696a5",
   "metadata": {},
   "source": [
    "urls = ['https://raw.githubusercontent.com/okfn/openmilton/master/miltondata/texts/poems.txt']\n",
    "\n",
    "#Duplicating the list to make it larger\n",
    "for _ in range(0,3):\n",
    "    urls += urls\n",
    "\n",
    "print(urls)"
   ]
  },
  {
   "cell_type": "raw",
   "id": "98fd2bb1",
   "metadata": {},
   "source": [
    "Now let's test how long it takes to process the sentiment for each line of our poems dataset\n",
    "We can use TQDM to show us the progress of any for-loop operation\n"
   ]
  },
  {
   "cell_type": "code",
   "execution_count": 19,
   "id": "5301b563",
   "metadata": {},
   "outputs": [],
   "source": [
    "#Serial Processing\n",
    "#score = []\n",
    "\n",
    "#for url in tqdm(urls, position=0 ): #position=0 forces the bars into the same line when printing\n",
    "#    score += process_poem(url)\n"
   ]
  },
  {
   "cell_type": "code",
   "execution_count": 20,
   "id": "02be9b57",
   "metadata": {},
   "outputs": [],
   "source": [
    "#Print the scores\n",
    "\n",
    "#print(score[:10])"
   ]
  },
  {
   "cell_type": "code",
   "execution_count": 21,
   "id": "55549896",
   "metadata": {},
   "outputs": [],
   "source": [
    "#score = []\n",
    "\n",
    "#for score in tqdm(pool.uimap(process_poem, urls), total=len(urls), position=0):\n",
    "#    score += score"
   ]
  },
  {
   "cell_type": "markdown",
   "id": "269b6f10",
   "metadata": {},
   "source": [
    "# Parallel processing"
   ]
  },
  {
   "cell_type": "markdown",
   "id": "9854dd90",
   "metadata": {},
   "source": [
    "pool = ProcessPool(nodes=3)"
   ]
  },
  {
   "cell_type": "raw",
   "id": "a0f2df61",
   "metadata": {},
   "source": [
    "score=[]\n",
    "for result in tqdm(pool.uimap(process_poem, urls), total=len(urls), position=0):\n",
    "    score.extend(result)\n",
    "    #result.append(score)\n"
   ]
  },
  {
   "cell_type": "raw",
   "id": "c6ad743d",
   "metadata": {},
   "source": [
    "print(score)"
   ]
  }
 ],
 "metadata": {
  "kernelspec": {
   "display_name": "Python 3 (ipykernel)",
   "language": "python",
   "name": "python3"
  },
  "language_info": {
   "codemirror_mode": {
    "name": "ipython",
    "version": 3
   },
   "file_extension": ".py",
   "mimetype": "text/x-python",
   "name": "python",
   "nbconvert_exporter": "python",
   "pygments_lexer": "ipython3",
   "version": "3.10.9"
  }
 },
 "nbformat": 4,
 "nbformat_minor": 5
}
